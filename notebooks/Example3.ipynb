{
 "cells": [
  {
   "cell_type": "code",
   "execution_count": 1,
   "metadata": {},
   "outputs": [],
   "source": [
    "import os, sys\n",
    "import numpy as np\n",
    "import matplotlib.pyplot as plt\n",
    "%matplotlib inline\n",
    "\n",
    "# include path to src dir\n",
    "sys.path.append(os.path.abspath(os.path.join('../src')))\n",
    "\n",
    "import sbfem.sbfem\n",
    "import sbfem.utils as utils\n",
    "import examples.Ex3 as Ex3\n",
    "\n",
    "# for auto-reloading external modules\n",
    "# see http://stackoverflow.com/questions/1907993/autoreload-of-modules-in-ipython\n",
    "%load_ext autoreload\n",
    "%autoreload 2"
   ]
  },
  {
   "cell_type": "code",
   "execution_count": 2,
   "metadata": {},
   "outputs": [
    {
     "data": {
      "image/png": "[encoded data removed]",
      "text/plain": [
       "<Figure size 432x288 with 1 Axes>"
      ]
     },
     "metadata": {
      "needs_background": "light"
     },
     "output_type": "display_data"
    }
   ],
   "source": [
    "# Example 3.4\n",
    "\n",
    "ex_3_4 = Ex3.example_3_4()\n",
    "\n",
    "coord = ex_3_4['in']['coord']\n",
    "sdConn = ex_3_4['in']['sdConn']\n",
    "d = ex_3_4['out']['d']\n",
    "\n",
    "# Plot deformed mesh\n",
    "# figure\n",
    "opt = {'MagnFct': 0.1, 'Undeformed': '--',\n",
    "      'savePath': 'Example_3_4.png'}\n",
    "deformed, fct = utils.plotDeformedMesh(d, coord, sdConn, opt)\n",
    "\n"
   ]
  },
  {
   "cell_type": "code",
   "execution_count": null,
   "metadata": {},
   "outputs": [],
   "source": []
  },
  {
   "cell_type": "code",
   "execution_count": null,
   "metadata": {},
   "outputs": [],
   "source": []
  }
 ],
 "metadata": {
  "kernelspec": {
   "display_name": "Python 3",
   "language": "python",
   "name": "python3"
  },
  "language_info": {
   "codemirror_mode": {
    "name": "ipython",
    "version": 3
   },
   "file_extension": ".py",
   "mimetype": "text/x-python",
   "name": "python",
   "nbconvert_exporter": "python",
   "pygments_lexer": "ipython3",
   "version": "3.7.0"
  }
 },
 "nbformat": 4,
 "nbformat_minor": 4
}
