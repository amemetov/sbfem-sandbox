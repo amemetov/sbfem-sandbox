{
 "cells": [
  {
   "cell_type": "code",
   "execution_count": 1,
   "metadata": {},
   "outputs": [],
   "source": [
    "import numpy as np\n",
    "import scipy.linalg as linalg\n",
    "import matplotlib.pyplot as plt"
   ]
  },
  {
   "cell_type": "code",
   "execution_count": 2,
   "metadata": {},
   "outputs": [],
   "source": [
    "class Material(object):\n",
    "    def __init__(self, D, den):\n",
    "        self.D = D # elasticity matrix\n",
    "        self.den = den # mass density in Mg per cubic meter"
   ]
  },
  {
   "cell_type": "code",
   "execution_count": 3,
   "metadata": {},
   "outputs": [
    {
     "data": {
      "text/plain": [
       "(array([[8., 0., 4., 0.],\n",
       "        [0., 4., 0., 2.],\n",
       "        [4., 0., 8., 0.],\n",
       "        [0., 2., 0., 4.]]), array([[-2., -3.,  2., -3.],\n",
       "        [-0., -1.,  0.,  1.],\n",
       "        [ 2.,  3., -2.,  3.],\n",
       "        [ 0.,  1.,  0., -1.]]), array([[ 5.,  0., -5., -0.],\n",
       "        [ 0.,  7., -0., -7.],\n",
       "        [-5., -0.,  5.,  0.],\n",
       "        [-0., -7.,  0.,  7.]]), array([[0.66666667, 0.        , 0.33333333, 0.        ],\n",
       "        [0.        , 0.66666667, 0.        , 0.33333333],\n",
       "        [0.33333333, 0.        , 0.66666667, 0.        ],\n",
       "        [0.        , 0.33333333, 0.        , 0.66666667]]))"
      ]
     },
     "execution_count": 3,
     "metadata": {},
     "output_type": "execute_result"
    }
   ],
   "source": [
    "\"\"\"\n",
    "%Coefficient matrices of a 2-node line element\n",
    "%\n",
    "%  Inputs:\n",
    "%   xy(i,:)    - coordinates of node i (orgin at scaling centre).\n",
    "%                The nodes are numbered locally within each line element\n",
    "%   mat        - material constants\n",
    "%     mat.D    - elasticity matrix\n",
    "%     mat.den  - mass density\n",
    "%\n",
    "%  Outputs:\n",
    "%    e0, e1, e2, m0  - element coefficient matrices\n",
    "\"\"\"\n",
    "def EleCoeff2NodeEle(xy, mat:Material):\n",
    "    dxy = xy[1, :] - xy[0, :] # (2.50a), (2.50b)\n",
    "    mxy = np.sum(xy, axis=0)/2 # (2.51a), (2.51b)\n",
    "    a = xy[0,0]*xy[1,1]-xy[1,0]*xy[0,1] # a=2|J_b| (2.58)\n",
    "    if a < 1e-10:\n",
    "        raise ValueError('negative area (EleCoeff2NodeEle)')\n",
    "    \n",
    "    C1 = 0.5*np.array([ [dxy[1], 0], [0, -dxy[0]], [-dxy[0], dxy[1]] ]) # (2.114a)\n",
    "    C2 = np.array([ [-mxy[1], 0], [0, mxy[0]], [mxy[0], -mxy[1]] ]) # (2.114b)\n",
    "    \n",
    "    Q0 = 1/a*(np.matmul(np.matmul(C1.T, mat.D), C1)) # (2.118a)\n",
    "    Q1 = 1/a*(np.matmul(np.matmul(C2.T, mat.D), C1)) # (2.118b)\n",
    "    Q2 = 1/a*(np.matmul(np.matmul(C2.T, mat.D), C2)) # (2.118c)\n",
    "    \n",
    "    e0 =  2/3*np.block([ [2*Q0, Q0], [Q0, 2*Q0] ]) # (2.119a)\n",
    "    e1 = -1/3*np.block([ [Q0, -Q0], [-Q0, Q0] ]) + np.block([ [-Q1, -Q1], [Q1, Q1] ]) # (2.119b)\n",
    "    e2 =  1/3*np.block([ [Q0, -Q0], [-Q0, Q0] ]) + np.block([ [Q2, -Q2], [-Q2, Q2] ]) # (2.119c)\n",
    "    \n",
    "    # mass coefficent matrix\n",
    "    m0 = a*mat.den/6*np.array([ [2, 0, 1, 0], [0, 2, 0, 1], [1, 0, 2, 0], [0, 1, 0, 2] ]) # (3.112)\n",
    "    \n",
    "#     print('dxy: ', dxy)\n",
    "#     print('mxy: ', mxy)\n",
    "#     print('a: ', a)\n",
    "#     print('C1: ', C1)\n",
    "#     print('C2: ', C2)\n",
    "#     print('Q0: ', Q0)\n",
    "#     print('Q1: ', Q1)\n",
    "#     print('Q2: ', Q2)\n",
    "#     print('e0: ', e0)\n",
    "#     print('e1: ', e1)\n",
    "#     print('e2: ', e2)\n",
    "#     print('m0: ', m0)\n",
    "    \n",
    "    return e0, e1, e2, m0\n",
    "\n",
    "\n",
    "xy = np.array([[1, -1], [1, 1]])\n",
    "E = 12\n",
    "D = E/2*np.array([[2, 0, 0], [0, 2, 0], [0, 0, 1]])\n",
    "mat = Material(D, 1)\n",
    "EleCoeff2NodeEle(xy, mat)"
   ]
  },
  {
   "cell_type": "code",
   "execution_count": null,
   "metadata": {},
   "outputs": [],
   "source": []
  },
  {
   "cell_type": "code",
   "execution_count": null,
   "metadata": {},
   "outputs": [],
   "source": []
  },
  {
   "cell_type": "code",
   "execution_count": null,
   "metadata": {},
   "outputs": [],
   "source": []
  }
 ],
 "metadata": {
  "kernelspec": {
   "display_name": "Python 3",
   "language": "python",
   "name": "python3"
  },
  "language_info": {
   "codemirror_mode": {
    "name": "ipython",
    "version": 3
   },
   "file_extension": ".py",
   "mimetype": "text/x-python",
   "name": "python",
   "nbconvert_exporter": "python",
   "pygments_lexer": "ipython3",
   "version": "3.7.0"
  }
 },
 "nbformat": 4,
 "nbformat_minor": 4
}
